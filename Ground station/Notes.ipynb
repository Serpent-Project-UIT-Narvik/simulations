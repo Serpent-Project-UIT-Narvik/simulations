{
 "cells": [
  {
   "cell_type": "markdown",
   "metadata": {},
   "source": [
    "Antenna mass is 508 grams \n",
    "\n",
    "Center of mass is roughtly 36 cm from the back of the antenna. \n"
   ]
  },
  {
   "cell_type": "code",
   "execution_count": 2,
   "metadata": {},
   "outputs": [
    {
     "name": "stdout",
     "output_type": "stream",
     "text": [
      "Torque:  1.792224 N*m\n"
     ]
    }
   ],
   "source": [
    "import numpy as np\n",
    "\n",
    "Mass = 0.508 # 508 grams \n",
    "centerOfMass = 0.36 # 36 cm from the back of the antenna mast \n",
    "\n",
    "Torque = Mass * centerOfMass * 9.8 # 9.8 m/s^2 is the acceleration due to gravity\n",
    "print(\"Torque: \", Torque, \"N*m\")\n"
   ]
  },
  {
   "cell_type": "markdown",
   "metadata": {},
   "source": [
    "For the antenna without a counterweight, the antenna mount needs to be able to support 1.7992 Nm of torque. When the antenna is pointing up this would go down towards zero. This does not include external forces such as wind."
   ]
  },
  {
   "cell_type": "code",
   "execution_count": 3,
   "metadata": {},
   "outputs": [
    {
     "name": "stdout",
     "output_type": "stream",
     "text": [
      "Torque:  1.792224 N*m\n",
      "Total Torque:  0.028224000000000027 N*m\n"
     ]
    }
   ],
   "source": [
    "counterWeight = 0.5 # 100 grams\n",
    "counterWeightDistance = -0.36 # 10 cm from the back of the antenna mast\n",
    "\n",
    "CounterTorque = counterWeight * counterWeightDistance * 9.8 # 9.8 m/s^2 is the acceleration due to gravity\n",
    "print(\"Torque: \", Torque, \"N*m\")\n",
    "\n",
    "totalTorque = Torque + CounterTorque\n",
    "print(\"Total Torque: \", totalTorque, \"N*m\")"
   ]
  },
  {
   "cell_type": "markdown",
   "metadata": {},
   "source": [
    "By placing a counterweight at the back of the antenna, the torque can be reduced. But a counterweight would increase the total mass of the system and put more strain on the tripod. Aditionally, the counterweight might get in the way as the antenna is rotated. So a compromise needs to be made.\n",
    "\n"
   ]
  },
  {
   "cell_type": "markdown",
   "metadata": {},
   "source": []
  },
  {
   "cell_type": "code",
   "execution_count": null,
   "metadata": {},
   "outputs": [
    {
     "name": "stdout",
     "output_type": "stream",
     "text": [
      "T:  5926.210295269705 s\n",
      "T:  98.77017158782841 min\n",
      "Oribits per day:  14.579300378348773\n",
      "Orbits over missionlifetime:  21285.77855238921\n"
     ]
    }
   ],
   "source": [
    "import numpy as np\n",
    "import matplotlib.pyplot as plt\n",
    "\n",
    "\n",
    "r = 6378+700\n",
    "T = 2*np.pi*r**(3/2)/np.sqrt(398600) \n",
    "\n",
    "print(\"T: \", T, \"s\")\n",
    "print(\"T: \", T/60, \"min\")\n",
    "oribts = (24*60*60)/T\n",
    "print(\"Oribits per day: \", oribts)\n",
    "print(\"Orbits over missionlifetime: \", oribts *365*4)\n",
    "\n"
   ]
  }
 ],
 "metadata": {
  "kernelspec": {
   "display_name": ".venv",
   "language": "python",
   "name": "python3"
  },
  "language_info": {
   "codemirror_mode": {
    "name": "ipython",
    "version": 3
   },
   "file_extension": ".py",
   "mimetype": "text/x-python",
   "name": "python",
   "nbconvert_exporter": "python",
   "pygments_lexer": "ipython3",
   "version": "3.13.1"
  }
 },
 "nbformat": 4,
 "nbformat_minor": 2
}
