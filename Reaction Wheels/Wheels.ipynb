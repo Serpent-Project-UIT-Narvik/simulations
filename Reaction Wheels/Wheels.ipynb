{
 "cells": [
  {
   "cell_type": "markdown",
   "metadata": {},
   "source": [
    "# Reaction wheel calculations and simulations\n",
    "\n"
   ]
  },
  {
   "cell_type": "code",
   "execution_count": 1,
   "metadata": {},
   "outputs": [
    {
     "name": "stdout",
     "output_type": "stream",
     "text": [
      "51547/823330 -92397/911116 -51547/823330 92397/911116 \n",
      "\n",
      "92397/911116 51547/823330 -92397/911116 -51547/823330 \n",
      "\n",
      "869957/876202 869957/876202 869957/876202 869957/876202 \n",
      "\n",
      "[[ 0.06260795 -0.1014108  -0.06260795  0.1014108 ]\n",
      " [ 0.1014108   0.06260795 -0.1014108  -0.06260795]\n",
      " [ 0.99287265  0.99287265  0.99287265  0.99287265]]\n"
     ]
    }
   ],
   "source": [
    "# Allocation matrix \n",
    "import numpy as np\n",
    "from fractions import Fraction\n",
    "\n",
    "\n",
    "\n",
    "theta = 45 \n",
    "beta = 58\n",
    "\n",
    "B = np.array([[np.cos(beta)*np.cos(theta), -np.cos(beta)*np.sin(theta), -np.cos(beta)*np.cos(theta), np.cos(beta)*np.sin(theta)],\n",
    "             [np.cos(beta)*np.sin(theta), np.cos(beta)*np.cos(theta), -np.cos(beta)*np.sin(theta), -np.cos(beta)*np.cos(theta)],\n",
    "                [np.sin(beta), np.sin(beta), np.sin(beta), np.sin(beta)]])\n",
    "\n",
    "B_frac = np.zeros((3,4), dtype = Fraction)\n",
    "for i in range(3):\n",
    "    for j in range(4):\n",
    "        B_frac[i,j] = Fraction(B[i,j]).limit_denominator()\n",
    "\n",
    "for i in range(3):\n",
    "    for j in range(4):\n",
    "        print(B_frac[i,j], end = ' ')\n",
    "    print('\\n')\n",
    "\n",
    "print(B)\n",
    "             "
   ]
  }
 ],
 "metadata": {
  "kernelspec": {
   "display_name": ".venv",
   "language": "python",
   "name": "python3"
  },
  "language_info": {
   "codemirror_mode": {
    "name": "ipython",
    "version": 3
   },
   "file_extension": ".py",
   "mimetype": "text/x-python",
   "name": "python",
   "nbconvert_exporter": "python",
   "pygments_lexer": "ipython3",
   "version": "3.13.1"
  }
 },
 "nbformat": 4,
 "nbformat_minor": 2
}
