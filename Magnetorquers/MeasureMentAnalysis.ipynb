{
 "cells": [
  {
   "cell_type": "code",
   "execution_count": 17,
   "id": "86d54c05",
   "metadata": {},
   "outputs": [],
   "source": [
    "import numpy as np\n",
    "import matplotlib.pyplot as plt\n",
    "\n",
    "data_x_file = \"Data/torque_state(x).txt\"\n",
    "data_y_file = \"Data/torque_state(y).txt\"\n",
    "data_z_file = \"Data/torque_state(z).txt\"\n",
    "data_xyz_file = \"Data/torque_state(xyz).txt\"\n",
    "data_random_file = \"Data/torque_state(rand).txt\"\n",
    "\n"
   ]
  },
  {
   "cell_type": "code",
   "execution_count": 18,
   "id": "5de8c4c9",
   "metadata": {},
   "outputs": [
    {
     "name": "stdout",
     "output_type": "stream",
     "text": [
      "Idle State Found: [-2698. -1683.  1771.]\n",
      "Idle State Found: [ 1570. -1548.  2014.]\n",
      "Idle State: [ 1570. -1548.  2014.]\n"
     ]
    }
   ],
   "source": [
    "torque = []\n",
    "mag = []\n",
    "\n",
    "idleState = np.zeros(3)\n",
    "\n",
    "with open(data_x_file, 'r') as f:\n",
    "    lines = f.readlines()\n",
    "    for line in lines:\n",
    "        # state(-466, -245, 459 AMAG( 16393.00, 8218.00, 3768.00)\n",
    "        if \"state\" in line and \"AMAG\" in line:\n",
    "            parts = line.split(\"state(\")[1].split(\"AMAG\")[0].strip()\n",
    "            torque_x = np.array([float(x) for x in parts.split(\",\")])\n",
    "            mag_x = np.array([float(x) for x in line.split(\"AMAG(\")[1].split(\")\")[0].split(\",\")])\n",
    "            #print(f\"Data X: {torque_x}, Mag X: {mag_x}\")\n",
    "            torque.append(torque_x)\n",
    "            if torque_x[0] == 0:\n",
    "                idleState = mag_x\n",
    "                print(f\"Idle State Found: {idleState}\")\n",
    "            mag.append(mag_x)\n",
    "\n",
    "print(f\"Idle State: {idleState}\")\n"
   ]
  }
 ],
 "metadata": {
  "kernelspec": {
   "display_name": ".venv",
   "language": "python",
   "name": "python3"
  },
  "language_info": {
   "codemirror_mode": {
    "name": "ipython",
    "version": 3
   },
   "file_extension": ".py",
   "mimetype": "text/x-python",
   "name": "python",
   "nbconvert_exporter": "python",
   "pygments_lexer": "ipython3",
   "version": "3.13.1"
  }
 },
 "nbformat": 4,
 "nbformat_minor": 5
}
